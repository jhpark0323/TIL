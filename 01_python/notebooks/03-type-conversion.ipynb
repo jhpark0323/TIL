{
 "cells": [
  {
   "attachments": {},
   "cell_type": "markdown",
   "metadata": {},
   "source": [
    "# Type Conversion"
   ]
  },
  {
   "attachments": {},
   "cell_type": "markdown",
   "metadata": {},
   "source": [
    "## Type Conversion"
   ]
  },
  {
   "attachments": {},
   "cell_type": "markdown",
   "metadata": {},
   "source": [
    "### 암시적 형변환 `Implicit Type conversion`\n",
    "파이썬이 자동으로 형변환을 하는 것"
   ]
  },
  {
   "attachments": {},
   "cell_type": "markdown",
   "metadata": {},
   "source": [
    "#### 암시적 형변환 예시\n",
    "Boolean과 Numeric Type에서만 가능\n",
    "\n",
    "```python\n",
    "print(3 + 5.0)  # 8.0\n",
    "\n",
    "print(True + 3)  # 4\n",
    "\n",
    "print(True + False)  # 1\n",
    "```"
   ]
  },
  {
   "attachments": {},
   "cell_type": "markdown",
   "metadata": {},
   "source": [
    "#### 실행 해보기"
   ]
  },
  {
   "cell_type": "code",
   "execution_count": 1,
   "metadata": {},
   "outputs": [
    {
     "name": "stdout",
     "output_type": "stream",
     "text": [
      "8.0\n",
      "4\n",
      "1\n"
     ]
    }
   ],
   "source": [
    "# 실행 해보기\n",
    "print(3 + 5.0) \n",
    "\n",
    "print(True + 3)\n",
    "\n",
    "print(True + False)"
   ]
  },
  {
   "attachments": {},
   "cell_type": "markdown",
   "metadata": {},
   "source": [
    "### 명시적 형변환 `Explicit Type conversion`\n",
    "개발자가 직접 형변환을 하는 것 암시적 형변환이 아닌 경우를 모두 포함\n",
    " "
   ]
  },
  {
   "attachments": {},
   "cell_type": "markdown",
   "metadata": {},
   "source": [
    "#### 명시적 형변환 예시\n",
    "- str -> integer : 형식에 맞는 숫자만 가능\n",
    "- integer -> str : 모두 가능\n",
    " \n",
    "    ```python\n",
    "    print(int('1'))  # 1\n",
    "\n",
    "    print(str(1) + '등')  # 1등\n",
    "\n",
    "    print(float('3.5'))  # 3.5\n",
    "\n",
    "    print(int(3.5))  # 3\n",
    "\n",
    "    # ValueError: invalid literal for int() with base 10: '3.5'\n",
    "    print(int('3.5'))\n",
    "    ```\n"
   ]
  },
  {
   "attachments": {},
   "cell_type": "markdown",
   "metadata": {},
   "source": [
    "#### 실행 해보기"
   ]
  },
  {
   "cell_type": "code",
   "execution_count": 2,
   "metadata": {},
   "outputs": [
    {
     "name": "stdout",
     "output_type": "stream",
     "text": [
      "1\n",
      "1등\n",
      "3.5\n",
      "3\n"
     ]
    },
    {
     "ename": "ValueError",
     "evalue": "invalid literal for int() with base 10: '3.5'",
     "output_type": "error",
     "traceback": [
      "\u001b[1;31m---------------------------------------------------------------------------\u001b[0m",
      "\u001b[1;31mValueError\u001b[0m                                Traceback (most recent call last)",
      "Cell \u001b[1;32mIn[2], line 10\u001b[0m\n\u001b[0;32m      6\u001b[0m \u001b[39mprint\u001b[39m(\u001b[39mfloat\u001b[39m(\u001b[39m'\u001b[39m\u001b[39m3.5\u001b[39m\u001b[39m'\u001b[39m))\n\u001b[0;32m      8\u001b[0m \u001b[39mprint\u001b[39m(\u001b[39mint\u001b[39m(\u001b[39m3.5\u001b[39m)) \n\u001b[1;32m---> 10\u001b[0m \u001b[39mprint\u001b[39m(\u001b[39mint\u001b[39;49m(\u001b[39m'\u001b[39;49m\u001b[39m3.5\u001b[39;49m\u001b[39m'\u001b[39;49m))\n",
      "\u001b[1;31mValueError\u001b[0m: invalid literal for int() with base 10: '3.5'"
     ]
    }
   ],
   "source": [
    "# 실행 해보기\n",
    "print(int('1')) \n",
    "\n",
    "print(str(1) + '등') \n",
    "\n",
    "print(float('3.5'))\n",
    "\n",
    "print(int(3.5)) \n",
    "\n",
    "print(int('3.5'))"
   ]
  },
  {
   "attachments": {},
   "cell_type": "markdown",
   "metadata": {},
   "source": [
    "#### 컬렉션 간 형변환 정리\n",
    "|              \t|     str    \t|           list         \t|         tuple        \t|     range    \t|          set         \t|     dict    \t|\n",
    "|:------------:\t|:----------:\t|:----------------------:\t|:--------------------:\t|:------------:\t|:--------------------:\t|:-----------:\t|\n",
    "|      str     \t|            \t|            O           \t|           O          \t|       X      \t|           O          \t|       X     \t|\n",
    "|      list    \t|      O     \t|                        \t|           O          \t|       X      \t|           O          \t|       X     \t|\n",
    "|     tuple    \t|      O     \t|            O           \t|                      \t|       X      \t|           O          \t|       X     \t|\n",
    "|     range    \t|      O     \t|            O           \t|           O          \t|              \t|           O          \t|       X     \t|\n",
    "|      set     \t|      O     \t|            O           \t|           O          \t|       X      \t|                      \t|       X     \t|\n",
    "|      dict    \t|      O     \t|     O       (key만)    \t|     O     (key만)    \t|       X      \t|     O     (key만)    \t|             \t|"
   ]
  }
 ],
 "metadata": {
  "kernelspec": {
   "display_name": "Python 3",
   "language": "python",
   "name": "python3"
  },
  "language_info": {
   "codemirror_mode": {
    "name": "ipython",
    "version": 3
   },
   "file_extension": ".py",
   "mimetype": "text/x-python",
   "name": "python",
   "nbconvert_exporter": "python",
   "pygments_lexer": "ipython3",
   "version": "3.9.13"
  },
  "orig_nbformat": 4
 },
 "nbformat": 4,
 "nbformat_minor": 2
}
