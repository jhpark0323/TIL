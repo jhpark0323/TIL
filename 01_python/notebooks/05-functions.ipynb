{
 "cells": [
  {
   "attachments": {},
   "cell_type": "markdown",
   "metadata": {},
   "source": [
    "# Functions"
   ]
  },
  {
   "attachments": {},
   "cell_type": "markdown",
   "metadata": {},
   "source": [
    "## 함수 `Functions`\n",
    "### 개요\n",
    "특정 작업을 수행하기 위한 재사용 가능한 코드 묶음"
   ]
  },
  {
   "attachments": {},
   "cell_type": "markdown",
   "metadata": {},
   "source": [
    "#### 함수를 사용하는 이유 \n",
    "- 두 수의 합을 구하는 함수를 정의하고 사용함으로써 코드의 중복을 방지\n",
    "- <span style='color:red;'>재사용성</span>이 높아지고, 코드의 <span style='color:red;'>가독성과 유지보수성</span> 향상\n",
    "\n",
    "    ```python\n",
    "    # 두 수의 합을 구하는 코드\n",
    "    num1 = 5\n",
    "    num2 = 3\n",
    "\n",
    "    sum_result = num1 + num2\n",
    "    print(sum_result)\n",
    "    ```\n",
    "    \n",
    "    ```python\n",
    "    # 두 수의 합을 구하는 함수\n",
    "    def get_sum(num1, num2):\n",
    "        return num1 + num2\n",
    "\n",
    "    # 함수 사용하여 결과 출력\n",
    "    num1 = 5\n",
    "    num2 = 3\n",
    "    sum_result = get_sum(num1, num2)\n",
    "    print(sum_result)\n",
    "    ```"
   ]
  },
  {
   "attachments": {},
   "cell_type": "markdown",
   "metadata": {},
   "source": [
    "#### 실행 해보기"
   ]
  },
  {
   "cell_type": "code",
   "execution_count": 19,
   "metadata": {},
   "outputs": [
    {
     "name": "stdout",
     "output_type": "stream",
     "text": [
      "8\n"
     ]
    }
   ],
   "source": [
    "# 실행 해보기 1\n",
    "num1 = 5\n",
    "num2 = 3\n",
    "\n",
    "sum_result = num1 + num2\n",
    "print(sum_result)"
   ]
  },
  {
   "cell_type": "code",
   "execution_count": 20,
   "metadata": {},
   "outputs": [
    {
     "name": "stdout",
     "output_type": "stream",
     "text": [
      "8\n"
     ]
    }
   ],
   "source": [
    "# 실행 해보기 2\n",
    "def get_sum(num1, num2):\n",
    "    return num1 + num2\n",
    "\n",
    "num1 = 5\n",
    "num2 = 3\n",
    "sum_result = get_sum(num1, num2)\n",
    "print(sum_result)"
   ]
  },
  {
   "attachments": {},
   "cell_type": "markdown",
   "metadata": {},
   "source": [
    "### 내장 함수 `Built-in function`\n",
    "파이썬이 기본적으로 제공하는 함수\n",
    "(별도의 import 없이 바로 사용 가능)"
   ]
  },
  {
   "attachments": {},
   "cell_type": "markdown",
   "metadata": {},
   "source": [
    "#### 내장 함수 예시\n",
    "절대값을 만드는 함수 abs\n",
    "\n",
    "    ```python\n",
    "    # abs 함수 호출의 반환 값을 result에 할당\n",
    "    result = abs(-1)\n",
    "\n",
    "    print(result) # 1\n",
    "    ```"
   ]
  },
  {
   "attachments": {},
   "cell_type": "markdown",
   "metadata": {},
   "source": [
    "#### 함수 호출 `function call`\n",
    "함수를 실행하기 위해 함수의 이름을 사용하여 \n",
    "해당 함수의 코드 블록을 실행하는 것\n",
    "\n",
    "```python\n",
    "function_name(arguments)\n",
    "```"
   ]
  },
  {
   "attachments": {},
   "cell_type": "markdown",
   "metadata": {},
   "source": [
    "#### 실행 해보기"
   ]
  },
  {
   "cell_type": "code",
   "execution_count": 21,
   "metadata": {},
   "outputs": [
    {
     "name": "stdout",
     "output_type": "stream",
     "text": [
      "1\n"
     ]
    }
   ],
   "source": [
    "# 실행 해보기 1\n",
    "result = abs(-1)\n",
    "\n",
    "print(result)"
   ]
  },
  {
   "attachments": {},
   "cell_type": "markdown",
   "metadata": {},
   "source": [
    "### 함수의 구조\n",
    "#### 함수 구조 \n",
    "![image](https://github.com/ragu6963/TIL/assets/32388270/fe4bb4a9-f88d-43f8-9e6e-915e3c790b48)"
   ]
  },
  {
   "attachments": {},
   "cell_type": "markdown",
   "metadata": {},
   "source": [
    "#### 함수의 정의와 호출 1\n",
    "- 함수 정의(정의)\n",
    "    - 함수 정의는 `def` 키워드로 시작\n",
    "    - def 키워드 이후 함수 이름 작성\n",
    "    - 괄호안에 매개변수를 정의할 수 있음\n",
    "    - 매개변수(parameter)는 함수에 전달되는 값을 나타냄\n",
    "\n",
    "    ```python\n",
    "    # 함수 정의\n",
    "    def greet(name):\n",
    "        \"\"\"입력된 이름(name) 값에\n",
    "        인사를 하는 메세지('Hello, ')를 만드는 함수\n",
    "        \"\"\"\n",
    "        message = 'Hello, ' + name\n",
    "        return message\n",
    "\n",
    "    # 함수 호출\n",
    "    result = greet('Alice')\n",
    "    print(result)\n",
    "    ```"
   ]
  },
  {
   "attachments": {},
   "cell_type": "markdown",
   "metadata": {},
   "source": [
    "#### 함수의 정의와 호출 2\n",
    "- 함수 body\n",
    "    - 콜론(:) 다음에 들여쓰기 된 코드 블록\n",
    "    - 함수가 실행 될 때 수행되는 코드를 정의\n",
    "    - Docstring은 함수 body 앞에 선택적으로 작성 가능한 함수 설명서\n",
    "    ![image](https://github.com/ragu6963/TIL/assets/32388270/71898c0f-abee-4946-9b19-9083d0d8c4e7)\n"
   ]
  },
  {
   "attachments": {},
   "cell_type": "markdown",
   "metadata": {},
   "source": [
    "#### 함수의 정의와 호출 3\n",
    "- 함수 반환 값\n",
    "    - 함수는 필요한 경우 결과를 반환할 수 있음\n",
    "    - return 키워드 이후에 반환할 값을 명시\n",
    "    - return 문은 함수의 실행을 종료하고, 결과를 호출 부분으로 반환\n",
    "    ![image](https://github.com/ragu6963/TIL/assets/32388270/9b0cadc1-aeb7-4bf9-a9fe-e8d13f06717f)\n"
   ]
  },
  {
   "attachments": {},
   "cell_type": "markdown",
   "metadata": {},
   "source": [
    "#### 함수의 정의와 호출 4\n",
    "- 함수 호출\n",
    "    - 함수를 호출하기 위해서는 함수의 이름과 필요한 인자(argument)를 전달해야 함\n",
    "    - 호출 부분에서 전달된 인자는 함수 정의 시 작성한 매개변수에 대입됨\n",
    "    ![image](https://github.com/ragu6963/TIL/assets/32388270/01253ed5-3ab6-40c5-bfd8-04ca0c2ae01d)\n"
   ]
  },
  {
   "attachments": {},
   "cell_type": "markdown",
   "metadata": {},
   "source": [
    "#### 실행해보기"
   ]
  },
  {
   "cell_type": "code",
   "execution_count": 22,
   "metadata": {},
   "outputs": [
    {
     "name": "stdout",
     "output_type": "stream",
     "text": [
      "Hello, Alice\n"
     ]
    }
   ],
   "source": [
    "# 실행 해보기 1\n",
    "def greet(name): \n",
    "    message = 'Hello, ' + name\n",
    "    return message\n",
    "\n",
    "result = greet('Alice')\n",
    "print(result)"
   ]
  },
  {
   "attachments": {},
   "cell_type": "markdown",
   "metadata": {},
   "source": [
    "## 매개변수와 인자\n",
    "### 매개변수와 인자\n",
    "#### 매개변수 `parameter`\n",
    "함수를 정의할 때, \n",
    "함수가 받을 값을 나타내는 변수\n",
    "\n",
    "#### 인자 `argument`\n",
    "함수를 호출할 때, \n",
    "실제로 전달되는 값\n",
    "\n",
    "#### 매개변수와 인자 예시\n",
    "```python\n",
    "def add_numbers(x, y): # x와 y는 매개변수(parameter)\n",
    "    result = x + y\n",
    "    return result\n",
    "\n",
    "\n",
    "a = 2\n",
    "b = 3\n",
    "sum_result = add_numbers(a, b) # a와 b는 인자(argument)\n",
    "print(sum_result)\n",
    "```"
   ]
  },
  {
   "attachments": {},
   "cell_type": "markdown",
   "metadata": {},
   "source": [
    "#### 실행 해보기"
   ]
  },
  {
   "cell_type": "code",
   "execution_count": 23,
   "metadata": {},
   "outputs": [
    {
     "name": "stdout",
     "output_type": "stream",
     "text": [
      "5\n"
     ]
    }
   ],
   "source": [
    "# 실행 해보기 1\n",
    "def add_numbers(x, y): \n",
    "\tresult = x + y\n",
    "\treturn result\n",
    "\n",
    "\n",
    "a = 2\n",
    "b = 3\n",
    "sum_result = add_numbers(a, b) \n",
    "print(sum_result)"
   ]
  },
  {
   "attachments": {},
   "cell_type": "markdown",
   "metadata": {},
   "source": [
    "### 인자의 종류"
   ]
  },
  {
   "attachments": {},
   "cell_type": "markdown",
   "metadata": {},
   "source": [
    "#### Positional Arguments (위치인자)\n",
    "- 함수 호출 시 인자의 위치에 따라 전달되는 인자\n",
    "- > <span style='color:red;'>위치인자는 함수 호출 시 반드시 값을 전달해야 함</span>\n",
    "\n",
    "    ```python\n",
    "    def greet(name, age):\n",
    "        print(f'안녕하세요, {name}님! {age}살이시군요.')\n",
    "\n",
    "\n",
    "    greet('Alice', 25) # 안녕하세요, Alice님! 25살이시군요\n",
    "    ```"
   ]
  },
  {
   "attachments": {},
   "cell_type": "markdown",
   "metadata": {},
   "source": [
    "#### Default Argument Values (기본 인자 값)\n",
    "- 함수 정의에서 매개변수에 기본 값을 할당하는 것\n",
    "- 함수 호출 시 인자를 전달하지 않으면, 기본값이 매개변수에 할당됨\n",
    "\n",
    "    ```python\n",
    "    def greet(name, age=30):\n",
    "        print(f'안녕하세요, {name}님! {age}살이시군요.')\n",
    "\n",
    "\n",
    "    greet('Bob') # 안녕하세요, Bob님! 30살이시군요.\n",
    "    greet('Charlie', 40) # 안녕하세요, Charlie님! 40살이시군요.\n",
    "    ```"
   ]
  },
  {
   "attachments": {},
   "cell_type": "markdown",
   "metadata": {},
   "source": [
    "####  Keyword Arguments (키워드 인자)\n",
    "- 함수 호출 시 인자의 이름과 함께 값을 전달하는 인자\n",
    "- 매개변수와 인자를 일치시키지 않고, 특정 매개변수에 값을 할당할 수 있음\n",
    "- 인자의 순서는 중요하지 않으며, 인자의 이름을 명시하여 전달\n",
    "- > <span style='color:red;'>단, 호출 시 키워드 인자는 위치 인자 뒤에 위치해야 함</span>\n",
    "\n",
    "    ```python\n",
    "    def greet(name, age):\n",
    "        print(f'안녕하세요, {name}님! {age}살이시군요.')\n",
    "\n",
    "\n",
    "    greet(name='Dave', age=35)  # 안녕하세요, Dave님! 35살이시군요.\n",
    "    greet(age=35, 'Dave')  #  positional argument follows keyword argument\n",
    "    ```"
   ]
  },
  {
   "attachments": {},
   "cell_type": "markdown",
   "metadata": {},
   "source": [
    "#### Arbitrary Argument Lists (임의의 인자 목록)\n",
    "- 정해지지 않은 개수의 인자를 처리하는 인자\n",
    "- 함수 정의 시 매개변수 앞에 <span style='color:red;'>‘*’</span>를 붙여 사용하며, 여러 개의 인자를 tuple로 처리\n",
    "\n",
    "    ```python\n",
    "    def calculate_sum(*args):\n",
    "        print(args)\n",
    "        total = sum(args)\n",
    "        print(f'합계: {total}')\n",
    "\n",
    "\n",
    "    \"\"\"\n",
    "    (1, 2, 3)\n",
    "    합계: 6\n",
    "    \"\"\"\n",
    "    calculate_sum(1, 2, 3)\n",
    "    ```\n"
   ]
  },
  {
   "attachments": {},
   "cell_type": "markdown",
   "metadata": {},
   "source": [
    "#### Arbitrary Keyword Argument Lists (임의의 키워드 인자 목록)\n",
    "- 정해지지 않은 개수의 키워드 인자를 처리하는 인자\n",
    "- 함수 정의 시 매개변수 앞에 <span style='color:red;'>‘**’</span>를 붙여 사용하며, <br>여러 개의 인자를 dictionary로 묶어 처리\n",
    "\n",
    "    ```python\n",
    "    def print_info(**kwargs):\n",
    "        print(kwargs)\n",
    "\n",
    "\n",
    "    print_info(name='Eve', age=30) # {'name': 'Eve', 'age': 30}\n",
    "    ```"
   ]
  },
  {
   "attachments": {},
   "cell_type": "markdown",
   "metadata": {},
   "source": [
    "#### 함수 인자 권장 작성순서\n",
    "- 위치 -> 기본 -> 가변 -> 가변 키워드\n",
    "- 호출 시 인자를 전달하는 과정에서 혼란을 줄일 수 있도록 함\n",
    "- > <span style='color:red;'>단, 모든 상황에 적용되는 절대적인 규칙은 아니며, 상황에 따라 유연하게 조정될 수 있음</span>\n",
    "\n",
    "    ```python\n",
    "    def func(pos1, pos2, default_arg='default', *args, **kwargs):\n",
    "        # ...\n",
    "    ```\n"
   ]
  },
  {
   "attachments": {},
   "cell_type": "markdown",
   "metadata": {},
   "source": [
    "#### 실행 해보기"
   ]
  },
  {
   "cell_type": "code",
   "execution_count": 24,
   "metadata": {},
   "outputs": [
    {
     "name": "stdout",
     "output_type": "stream",
     "text": [
      "안녕하세요, Alice님! 25살이시군요.\n"
     ]
    }
   ],
   "source": [
    "# 실행 해보기 1\n",
    "def greet(name, age):\n",
    "    print(f'안녕하세요, {name}님! {age}살이시군요.')\n",
    "\n",
    "\n",
    "greet('Alice', 25) "
   ]
  },
  {
   "cell_type": "code",
   "execution_count": 25,
   "metadata": {},
   "outputs": [
    {
     "name": "stdout",
     "output_type": "stream",
     "text": [
      "안녕하세요, Bob님! 30살이시군요.\n",
      "안녕하세요, Charlie님! 40살이시군요.\n"
     ]
    }
   ],
   "source": [
    "# 실행 해보기 2\n",
    "def greet(name, age=30):\n",
    "    print(f'안녕하세요, {name}님! {age}살이시군요.')\n",
    "\n",
    "\n",
    "greet('Bob')  \n",
    "greet('Charlie', 40)"
   ]
  },
  {
   "cell_type": "code",
   "execution_count": 26,
   "metadata": {},
   "outputs": [
    {
     "name": "stdout",
     "output_type": "stream",
     "text": [
      "안녕하세요, Dave님! 35살이시군요.\n"
     ]
    }
   ],
   "source": [
    "# 실행 해보기 3\n",
    "def greet(name, age):\n",
    "    print(f'안녕하세요, {name}님! {age}살이시군요.')\n",
    "\n",
    "\n",
    "greet(name='Dave', age=35)  "
   ]
  },
  {
   "cell_type": "code",
   "execution_count": 27,
   "metadata": {},
   "outputs": [
    {
     "ename": "SyntaxError",
     "evalue": "positional argument follows keyword argument (1261270664.py, line 6)",
     "output_type": "error",
     "traceback": [
      "\u001b[1;36m  Cell \u001b[1;32mIn[27], line 6\u001b[1;36m\u001b[0m\n\u001b[1;33m    greet(age=35, 'Dave')\u001b[0m\n\u001b[1;37m                        ^\u001b[0m\n\u001b[1;31mSyntaxError\u001b[0m\u001b[1;31m:\u001b[0m positional argument follows keyword argument\n"
     ]
    }
   ],
   "source": [
    "# 실행 해보기 4\n",
    "def greet(name, age):\n",
    "    print(f'안녕하세요, {name}님! {age}살이시군요.')\n",
    "\n",
    "\n",
    "greet(age=35, 'Dave')"
   ]
  },
  {
   "cell_type": "code",
   "execution_count": null,
   "metadata": {},
   "outputs": [
    {
     "ename": "NameError",
     "evalue": "name 'sum' is not defined",
     "output_type": "error",
     "traceback": [
      "\u001b[1;31m---------------------------------------------------------------------------\u001b[0m",
      "\u001b[1;31mNameError\u001b[0m                                 Traceback (most recent call last)",
      "Cell \u001b[1;32mIn[11], line 5\u001b[0m\n\u001b[0;32m      1\u001b[0m \u001b[39m# 실행 해보기 5\u001b[39;00m\n\u001b[0;32m      2\u001b[0m \u001b[39m# 아래 오류 발생 시 del sum 코드 한 번 실행\u001b[39;00m\n\u001b[0;32m      3\u001b[0m \u001b[39m# TypeError: 'int' object is not callable\u001b[39;00m\n\u001b[1;32m----> 5\u001b[0m \u001b[39mdel\u001b[39;00m \u001b[39msum\u001b[39m\n\u001b[0;32m      6\u001b[0m \u001b[39mdef\u001b[39;00m \u001b[39mcalculate_sum\u001b[39m(\u001b[39m*\u001b[39margs):\n\u001b[0;32m      7\u001b[0m     \u001b[39mprint\u001b[39m(args) \n",
      "\u001b[1;31mNameError\u001b[0m: name 'sum' is not defined"
     ]
    }
   ],
   "source": [
    "# 실행 해보기 5\n",
    "\"\"\"\n",
    "아래 오류 발생 시 sum 변수 객체 삭제를 위해\n",
    "del sum 코드 한 번 실행\n",
    "TypeError: 'int' object is not callable\n",
    "\"\"\"\n",
    "# del sum\n",
    "\n",
    "def calculate_sum(*args):\n",
    "    print(args) \n",
    "    total = sum(args)\n",
    "    print(f'합계: {total}')\n",
    " \n",
    "calculate_sum(1, 2, 3)"
   ]
  },
  {
   "cell_type": "code",
   "execution_count": null,
   "metadata": {},
   "outputs": [],
   "source": [
    "# 실행 해보기 6\n",
    "def print_info(**kwargs):\n",
    "    print(kwargs)\n",
    "\n",
    "\n",
    "print_info(name='Eve', age=30)"
   ]
  },
  {
   "attachments": {},
   "cell_type": "markdown",
   "metadata": {},
   "source": [
    "## 함수와 Scope\n",
    "#### Python의 범위(Scope)\n",
    "- 함수는 코드 내부에 <span style='color:red;'>local scope</span>를 생성하며, 그 외의 공간인 <span style='color:red;'>global scope</span>로 구분\n",
    "- scope\n",
    "    - global scope : 코드 어디에서든 참조할 수 있는 공간\n",
    "    - local scope : 함수가 만든 scope (함수 내부에서만 참조 가능)\n",
    "- variable \n",
    "    - global variable : global scope에 정의된 변수\n",
    "    - local variable : local scope에 정의된 변수"
   ]
  },
  {
   "attachments": {},
   "cell_type": "markdown",
   "metadata": {},
   "source": [
    "#### Scope 예시\n",
    "- num은 local scope에 존재하기 때문에 global에서 사용할 수 없음\n",
    "- 이는 변수의 <span style='color:red;'>수명주기</span>와 연관이 있음\n",
    "\n",
    "    ```python\n",
    "    def func():\n",
    "        num = 20\n",
    "        print('local', num)  # local 20\n",
    "\n",
    "\n",
    "    func()\n",
    "\n",
    "    print('global', num)  # NameError: name 'num' is not defined\n",
    "    ```"
   ]
  },
  {
   "attachments": {},
   "cell_type": "markdown",
   "metadata": {},
   "source": [
    "#### 변수 수명주기(lifecycle)\n",
    "- 변수의 수명주기는 변수가 선언되는 위치와 스코프에 따라 결정됨\n",
    "1. built-in scope\n",
    "    - 파이썬이 실행된 이후부터 영원히 유지\n",
    "2. global scope\n",
    "    - 모듈이 호출된 시점 이후 혹은 인터프리터가 끝날 때까지 유지\n",
    "3. local scope\n",
    "    - 함수가 호출될 때 생성되고, 함수가 종료될 때까지 유지"
   ]
  },
  {
   "attachments": {},
   "cell_type": "markdown",
   "metadata": {},
   "source": [
    "#### 이름 검색 규칙(Name Resolution)\n",
    "- 파이썬에서 사용되는 이름(식별자)들은 특정한 이름공간(namespace)에 저장되어 있음\n",
    "- 아래와 같은 순서로 이름을 찾아 나가며, LEGB Rule이라고 부름\n",
    "    1. Local scope : 지역 범위(현재 작업 중인 범위)\n",
    "    2. Enclosed scope : 지역 범위 한 단계 위 범위\n",
    "    3. Global scope : 최상단에 위치한 범위\n",
    "    4. Built-in scope : 모든 것을 담고 있는 범위(정의하지 않고 사용할 수 있는 모든 것)\n",
    "> <span style='color:red;'>함수 내에서는 바깥 Scope의 변수에 접근 가능하나 수정은 할 수 없음</span>\n",
    "\n",
    "![image](https://github.com/ragu6963/TIL/assets/32388270/15b4f0c6-7f21-4986-8349-fd8740e49573)\n"
   ]
  },
  {
   "attachments": {},
   "cell_type": "markdown",
   "metadata": {},
   "source": [
    "#### LEGB Rule 예시 1\n",
    "- sum이라는 이름을 global scope에서 사용하게 되면서 <br>기존에 built-in scope에 있던 내장함수 sum을 사용하지 못하게 됨\n",
    "- sum을 참조 시 LEGB Rule에 따라 global에서 먼저 찾기 때문\n",
    "\n",
    "    ```python\n",
    "    print(sum) # <built-in function sum>\n",
    "    print(sum(range(3))) # 3\n",
    "\n",
    "    sum = 5\n",
    "\n",
    "    print(sum) # 5\n",
    "    print(sum(range(3))) # TypeError: 'int' object is not callable\n",
    "    ```"
   ]
  },
  {
   "attachments": {},
   "cell_type": "markdown",
   "metadata": {},
   "source": [
    "#### LEGB Rule 예시 2\n",
    "```python\n",
    "a = 1\n",
    "b = 2\n",
    "\n",
    "\n",
    "def enclosed():\n",
    "    a = 10\n",
    "    c = 3\n",
    "\n",
    "    def local(c):\n",
    "        print(a, b, c) # 10 2 500\n",
    "\n",
    "    local(500)\n",
    "    print(a, b, c) # 10 2 3\n",
    "\n",
    "\n",
    "enclosed()\n",
    "print(a, b) # 1 2\n",
    "```"
   ]
  },
  {
   "attachments": {},
   "cell_type": "markdown",
   "metadata": {},
   "source": [
    "#### ‘global’ 키워드\n",
    "- 변수의 스코프를 전역 범위로 지정하기 위해 사용\n",
    "- 일반적으로 함수 내에서 전역 변수를 수정하려는 경우에 사용\n",
    "\n",
    "    ```python\n",
    "    num = 0 # 전역 변수\n",
    "\n",
    "\n",
    "    def increment():\n",
    "        global num # num를 전역 변수로 선언\n",
    "        num += 1\n",
    "\n",
    "\n",
    "    print(num) # 0\n",
    "    increment()\n",
    "    print(num) # 1\n",
    "    ```"
   ]
  },
  {
   "attachments": {},
   "cell_type": "markdown",
   "metadata": {},
   "source": [
    "#### ‘global’ 키워드 주의사항 (1/2)\n",
    "- global 키워드 선언 전에 접근 시\n",
    "\n",
    "    ```python\n",
    "    num = 0\n",
    "\n",
    "\n",
    "    def increment():\n",
    "        # SyntaxError: name 'num' is used prior to global declaration\n",
    "        print(num)\n",
    "        global num\n",
    "        num += 1\n",
    "    ```"
   ]
  },
  {
   "attachments": {},
   "cell_type": "markdown",
   "metadata": {},
   "source": [
    "#### ‘global’ 키워드 주의사항 (2/2)\n",
    "- 매개변수에 global 사용 불가 \n",
    "\n",
    "    ```python\n",
    "    num = 0\n",
    "\n",
    "\n",
    "    def increment(num):\n",
    "        # \"num\" is assigned before global declaration\n",
    "        global num\n",
    "        num += 1\n",
    "    ```"
   ]
  },
  {
   "attachments": {},
   "cell_type": "markdown",
   "metadata": {},
   "source": [
    "global 키워드는 가급적 사용하지 않는 것을 권장\n",
    "\n",
    "함수로 값을 바꾸고자 한다면 항상 <span style='color:red;'>인자</span>로 넘기고 \n",
    "<br>함수의 <span style='color:red;'>반환 값</span>을 사용하는 것을 권장"
   ]
  },
  {
   "attachments": {},
   "cell_type": "markdown",
   "metadata": {},
   "source": [
    "#### 실행 해보기"
   ]
  },
  {
   "cell_type": "code",
   "execution_count": null,
   "metadata": {},
   "outputs": [
    {
     "name": "stdout",
     "output_type": "stream",
     "text": [
      "local 20\n"
     ]
    },
    {
     "ename": "NameError",
     "evalue": "name 'num' is not defined",
     "output_type": "error",
     "traceback": [
      "\u001b[1;31m---------------------------------------------------------------------------\u001b[0m",
      "\u001b[1;31mNameError\u001b[0m                                 Traceback (most recent call last)",
      "Cell \u001b[1;32mIn[15], line 9\u001b[0m\n\u001b[0;32m      4\u001b[0m     \u001b[39mprint\u001b[39m(\u001b[39m'\u001b[39m\u001b[39mlocal\u001b[39m\u001b[39m'\u001b[39m, num)  \n\u001b[0;32m      7\u001b[0m func()\n\u001b[1;32m----> 9\u001b[0m \u001b[39mprint\u001b[39m(\u001b[39m'\u001b[39m\u001b[39mglobal\u001b[39m\u001b[39m'\u001b[39m, num)  \n",
      "\u001b[1;31mNameError\u001b[0m: name 'num' is not defined"
     ]
    }
   ],
   "source": [
    "# 실행 해보기 1\n",
    "def func():\n",
    "    num = 20\n",
    "    print('local', num)  \n",
    "\n",
    "\n",
    "func()\n",
    "\n",
    "print('global', num)  "
   ]
  },
  {
   "cell_type": "code",
   "execution_count": null,
   "metadata": {},
   "outputs": [
    {
     "name": "stdout",
     "output_type": "stream",
     "text": [
      "5\n"
     ]
    },
    {
     "ename": "TypeError",
     "evalue": "'int' object is not callable",
     "output_type": "error",
     "traceback": [
      "\u001b[1;31m---------------------------------------------------------------------------\u001b[0m",
      "\u001b[1;31mTypeError\u001b[0m                                 Traceback (most recent call last)",
      "Cell \u001b[1;32mIn[5], line 3\u001b[0m\n\u001b[0;32m      1\u001b[0m \u001b[39m# 실행 해보기 2\u001b[39;00m\n\u001b[0;32m      2\u001b[0m \u001b[39mprint\u001b[39m(\u001b[39msum\u001b[39m)  \n\u001b[1;32m----> 3\u001b[0m \u001b[39mprint\u001b[39m(\u001b[39msum\u001b[39;49m(\u001b[39mrange\u001b[39;49m(\u001b[39m3\u001b[39;49m))) \n\u001b[0;32m      5\u001b[0m \u001b[39msum\u001b[39m \u001b[39m=\u001b[39m \u001b[39m5\u001b[39m\n\u001b[0;32m      7\u001b[0m \u001b[39mprint\u001b[39m(\u001b[39msum\u001b[39m) \u001b[39m# 5\u001b[39;00m\n",
      "\u001b[1;31mTypeError\u001b[0m: 'int' object is not callable"
     ]
    }
   ],
   "source": [
    "# 실행 해보기 2\n",
    "print(sum)  \n",
    "print(sum(range(3))) \n",
    "\n",
    "sum = 5\n",
    "\n",
    "print(sum) # 5\n",
    "print(sum(range(3)))"
   ]
  },
  {
   "cell_type": "code",
   "execution_count": null,
   "metadata": {},
   "outputs": [
    {
     "name": "stdout",
     "output_type": "stream",
     "text": [
      "10 2 500\n",
      "10 2 3\n",
      "1 2\n"
     ]
    }
   ],
   "source": [
    "# 실행 해보기 3\n",
    "a = 1\n",
    "b = 2\n",
    "\n",
    "\n",
    "def enclosed():\n",
    "    a = 10\n",
    "    c = 3\n",
    "\n",
    "    def local(c):\n",
    "        print(a, b, c)  \n",
    "\n",
    "    local(500)\n",
    "    print(a, b, c)  \n",
    "\n",
    "\n",
    "enclosed()\n",
    "print(a, b)  "
   ]
  },
  {
   "cell_type": "code",
   "execution_count": null,
   "metadata": {},
   "outputs": [
    {
     "name": "stdout",
     "output_type": "stream",
     "text": [
      "0\n",
      "1\n"
     ]
    }
   ],
   "source": [
    "# 실행 해보기 4\n",
    "num = 0 \n",
    "\n",
    "\n",
    "def increment():\n",
    "    global num \n",
    "    num += 1\n",
    "\n",
    "\n",
    "print(num) \n",
    "increment()\n",
    "print(num) "
   ]
  },
  {
   "cell_type": "code",
   "execution_count": null,
   "metadata": {},
   "outputs": [
    {
     "ename": "SyntaxError",
     "evalue": "name 'num' is used prior to global declaration (637331423.py, line 7)",
     "output_type": "error",
     "traceback": [
      "\u001b[1;36m  Cell \u001b[1;32mIn[18], line 7\u001b[1;36m\u001b[0m\n\u001b[1;33m    global num\u001b[0m\n\u001b[1;37m    ^\u001b[0m\n\u001b[1;31mSyntaxError\u001b[0m\u001b[1;31m:\u001b[0m name 'num' is used prior to global declaration\n"
     ]
    }
   ],
   "source": [
    "# 실행 해보기 5\n",
    "num = 0\n",
    "\n",
    "\n",
    "def increment(): \n",
    "    print(num)\n",
    "    global num\n",
    "    num += 1"
   ]
  },
  {
   "cell_type": "code",
   "execution_count": null,
   "metadata": {},
   "outputs": [
    {
     "ename": "SyntaxError",
     "evalue": "name 'num' is parameter and global (2556380355.py, line 6)",
     "output_type": "error",
     "traceback": [
      "\u001b[1;36m  Cell \u001b[1;32mIn[19], line 6\u001b[1;36m\u001b[0m\n\u001b[1;33m    global num\u001b[0m\n\u001b[1;37m    ^\u001b[0m\n\u001b[1;31mSyntaxError\u001b[0m\u001b[1;31m:\u001b[0m name 'num' is parameter and global\n"
     ]
    }
   ],
   "source": [
    "# 실행 해보기 6\n",
    "num = 0\n",
    "\n",
    "\n",
    "def increment(num): \n",
    "    global num\n",
    "    num += 1"
   ]
  },
  {
   "attachments": {},
   "cell_type": "markdown",
   "metadata": {},
   "source": [
    "## 재귀 함수\n",
    "### 재귀 함수\n",
    "함수 내부에서 자기 자신을 호출하는 함수\n"
   ]
  },
  {
   "attachments": {},
   "cell_type": "markdown",
   "metadata": {},
   "source": [
    "#### 재귀 함수 특징\n",
    "- 특정 알고리즘 식을 표현할 때 변수의 사용이 줄어들며, 코드의 가독성이 높아짐\n",
    "- 1개 이상의 base case(종료되는 상황)가 존재하고, 수렴하도록 작성"
   ]
  },
  {
   "attachments": {},
   "cell_type": "markdown",
   "metadata": {},
   "source": [
    "#### 재귀 함수 예시 - 팩토리얼 1\n",
    "$$𝑛!$$\n",
    "$$𝑛∗(𝑛−1)!$$\n",
    "$$𝑛∗(𝑛−1)∗(𝑛−2)!$$\n",
    "$$…$$\n",
    "\n"
   ]
  },
  {
   "attachments": {},
   "cell_type": "markdown",
   "metadata": {},
   "source": [
    "#### 재귀 함수 예시 - 팩토리얼 2\n",
    "$$4!=4∗3!=4∗3∗2!=4∗3∗2∗1$$\n",
    "$$3!=3∗2!=3∗2∗1=6$$\n",
    "$$2!=2∗1=2$$\n",
    "$$1!=1$$\n",
    "![image](https://github.com/ragu6963/TIL/assets/32388270/0ab1ef93-2d63-4d99-87f6-1f4fdfa1efb8)"
   ]
  },
  {
   "attachments": {},
   "cell_type": "markdown",
   "metadata": {},
   "source": [
    "#### 재귀 함수 예시 - 팩토리얼 3\n",
    "- factorial 함수는 자기 자신을 재귀적으로 호출하여 입력된 숫자 n의 팩토리얼을 계산\n",
    "- 재귀 호출은 n이 0이 될 때까지 반복되며, 종료 조건을 설정하여 재귀 호출이 멈추도록 함\n",
    "- 재귀 호출의 결과를 이용하여 문제를 작은 단위의 문제로 분할하고, 분할된 문제들의 결과를 조합하여 최종 결과를 도출\n",
    "\n",
    "    ```python\n",
    "    def factorial(n):\n",
    "        # 종료 조건: n이 0이면 1을 반환\n",
    "        if n == 0:\n",
    "            return 1\n",
    "        # 재귀 호출: n과 n-1의 팩토리얼을 곱한 결과를 반환\n",
    "        return n * factorial(n - 1)\n",
    "\n",
    "\n",
    "    # 팩토리얼 계산 예시\n",
    "    result = factorial(5)\n",
    "    print(result) # 120\n",
    "    ```"
   ]
  },
  {
   "attachments": {},
   "cell_type": "markdown",
   "metadata": {},
   "source": [
    "#### 재귀 함수는\n",
    "1. 종료 조건을 명확히\n",
    "2. 반복되는 호출이 종료 조건을 향하도록"
   ]
  },
  {
   "attachments": {},
   "cell_type": "markdown",
   "metadata": {},
   "source": [
    "#### 실행 해보기"
   ]
  },
  {
   "cell_type": "code",
   "execution_count": null,
   "metadata": {},
   "outputs": [
    {
     "name": "stdout",
     "output_type": "stream",
     "text": [
      "120\n"
     ]
    }
   ],
   "source": [
    "# 실행 해보기 1\n",
    "def factorial(n):\n",
    "    if n == 0:\n",
    "        return 1\n",
    "    return n * factorial(n - 1)\n",
    "\n",
    " \n",
    "result = factorial(5)\n",
    "print(result)  "
   ]
  },
  {
   "attachments": {},
   "cell_type": "markdown",
   "metadata": {},
   "source": [
    "## 유용한 함수\n",
    "### 유용한 내장 함수"
   ]
  },
  {
   "attachments": {},
   "cell_type": "markdown",
   "metadata": {},
   "source": [
    "#### map(function, iterable)\n",
    "순회 가능한 데이터구조(iterable)의 모든 요소에 함수를 적용하고, <br>그 결과를 map object로 반환\n",
    "\n",
    "```python\n",
    "numbers = [1, 2, 3]\n",
    "result = map(str, numbers)\n",
    "\n",
    "print(result) # <map object at 0x00000239C915D760>\n",
    "print(list(result)) # ['1', '2', '3']\n",
    "```"
   ]
  },
  {
   "attachments": {},
   "cell_type": "markdown",
   "metadata": {},
   "source": [
    "#### zip(*iterables)\n",
    "임의의 iterable을 모아 튜플을 원소로 하는 zip object를 반환\n",
    "\n",
    "```python\n",
    "girls = ['jane', 'ashley']\n",
    "boys = ['peter', 'jay']\n",
    "pair = zip(girls, boys)\n",
    "\n",
    "print(pair) # <zip object at 0x000001C76DE58700>\n",
    "print(list(pair)) # [('jane', 'peter'), ('ashley', 'jay')]\n",
    "```"
   ]
  },
  {
   "attachments": {},
   "cell_type": "markdown",
   "metadata": {},
   "source": [
    "#### 실행 해보기"
   ]
  },
  {
   "cell_type": "code",
   "execution_count": null,
   "metadata": {},
   "outputs": [],
   "source": [
    "# 실행 해보기 1\n",
    "numbers = [1, 2, 3]\n",
    "result = map(str, numbers)\n",
    "\n",
    "print(result)\n",
    "print(list(result))"
   ]
  },
  {
   "cell_type": "code",
   "execution_count": null,
   "metadata": {},
   "outputs": [],
   "source": [
    "girls = ['jane', 'ashley']\n",
    "boys = ['peter', 'jay']\n",
    "pair = zip(girls, boys)\n",
    "\n",
    "print(pair) \n",
    "print(list(pair)) "
   ]
  },
  {
   "attachments": {},
   "cell_type": "markdown",
   "metadata": {},
   "source": [
    "### lambda 함수\n",
    "이름 없이 정의되고 사용되는 익명 함수\n",
    "\n",
    "#### lambda 함수 구조\n",
    "```python\n",
    "lambda 매개변수: 표현식\n",
    "```\n",
    "- lambda 키워드\n",
    "    - 람다 함수를 선언하기 위해 사용되는 키워드입니다.\n",
    "- 매개변수\n",
    "    - 함수에 전달되는 매개변수들\n",
    "    - 여러 개의 매개변수가 있을 경우 쉼표로 구분\n",
    "- 표현식\n",
    "    - 함수의 실행되는 코드 블록으로, 결과값을 반환하는 표현식으로 작성\n"
   ]
  },
  {
   "attachments": {},
   "cell_type": "markdown",
   "metadata": {},
   "source": [
    "#### lambda 함수 예시\n",
    "- 간단한 연산이나 함수를 한 줄로 표현할 때 사용\n",
    "- 함수를 매개변수로 전달하는 경우에도 유용하게 활용\n",
    "\n",
    "    ```python\n",
    "    # 람다 함수 미적용 코드\n",
    "    def addition(x, y):\n",
    "        return x + y\n",
    "\n",
    "    result = addition(3, 5)\n",
    "    print(result) # 8\n",
    "    ```\n",
    "\n",
    "    ```python\n",
    "    # 람다 함수 적용 코드\n",
    "    addition = lambda x, y: x + y\n",
    "\n",
    "    result = addition(3, 5)\n",
    "    print(result) # 8\n",
    "    ```"
   ]
  },
  {
   "attachments": {},
   "cell_type": "markdown",
   "metadata": {},
   "source": [
    "#### 실행 해보기"
   ]
  },
  {
   "cell_type": "code",
   "execution_count": null,
   "metadata": {},
   "outputs": [],
   "source": [
    "# 실행 해보기 1\n",
    "def addition(x, y):\n",
    "    return x + y\n",
    "\n",
    "result = addition(3, 5)\n",
    "print(result) "
   ]
  },
  {
   "cell_type": "code",
   "execution_count": null,
   "metadata": {},
   "outputs": [],
   "source": [
    "# 실행 해보기 2\n",
    "addition = lambda x, y: x + y\n",
    "\n",
    "result = addition(3, 5)\n",
    "print(result)"
   ]
  }
 ],
 "metadata": {
  "kernelspec": {
   "display_name": "Python 3",
   "language": "python",
   "name": "python3"
  },
  "language_info": {
   "codemirror_mode": {
    "name": "ipython",
    "version": 3
   },
   "file_extension": ".py",
   "mimetype": "text/x-python",
   "name": "python",
   "nbconvert_exporter": "python",
   "pygments_lexer": "ipython3",
   "version": "3.9.13"
  },
  "orig_nbformat": 4
 },
 "nbformat": 4,
 "nbformat_minor": 2
}
